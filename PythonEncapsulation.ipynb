{
  "nbformat": 4,
  "nbformat_minor": 0,
  "metadata": {
    "colab": {
      "name": "PythonEncapsulation.ipynb",
      "provenance": [],
      "collapsed_sections": [],
      "authorship_tag": "ABX9TyO2Ze19O6cQ9U5e/uq+pkzy"
    },
    "kernelspec": {
      "name": "python3",
      "display_name": "Python 3"
    },
    "language_info": {
      "name": "python"
    }
  },
  "cells": [
    {
      "cell_type": "markdown",
      "metadata": {
        "id": "vAcDm7KGN6Rl"
      },
      "source": [
        "# Encapsulation"
      ]
    },
    {
      "cell_type": "markdown",
      "metadata": {
        "id": "d5aojQ4FOAfk"
      },
      "source": [
        "## Private members\n"
      ]
    },
    {
      "cell_type": "markdown",
      "metadata": {
        "id": "OY1d6i0vRN1D"
      },
      "source": [
        "Using a base class with private and public variables to show that private members cannot be called in the main function"
      ]
    },
    {
      "cell_type": "code",
      "metadata": {
        "colab": {
          "base_uri": "https://localhost:8080/",
          "height": 212
        },
        "collapsed": true,
        "id": "AG9jGFSANwbh",
        "outputId": "2ed11ed4-e960-4667-d47f-e533d64082e3"
      },
      "source": [
        "class Base:\n",
        "    \n",
        "    def __init__(self):\n",
        "        self.name = \"Public Member\"\n",
        "        self.__status = \"Private member\"\n",
        "\n",
        "obj1 = Base()\n",
        "print(obj1.name)\n",
        "print(obj1.__status) #Will not work as it is a private member"
      ],
      "execution_count": 4,
      "outputs": [
        {
          "output_type": "stream",
          "name": "stdout",
          "text": [
            "Public Member\n"
          ]
        },
        {
          "output_type": "error",
          "ename": "AttributeError",
          "evalue": "ignored",
          "traceback": [
            "\u001b[0;31m---------------------------------------------------------------------------\u001b[0m",
            "\u001b[0;31mAttributeError\u001b[0m                            Traceback (most recent call last)",
            "\u001b[0;32m<ipython-input-4-d6c3642db08b>\u001b[0m in \u001b[0;36m<module>\u001b[0;34m()\u001b[0m\n\u001b[1;32m      7\u001b[0m \u001b[0mobj1\u001b[0m \u001b[0;34m=\u001b[0m \u001b[0mBase\u001b[0m\u001b[0;34m(\u001b[0m\u001b[0;34m)\u001b[0m\u001b[0;34m\u001b[0m\u001b[0;34m\u001b[0m\u001b[0m\n\u001b[1;32m      8\u001b[0m \u001b[0mprint\u001b[0m\u001b[0;34m(\u001b[0m\u001b[0mobj1\u001b[0m\u001b[0;34m.\u001b[0m\u001b[0mname\u001b[0m\u001b[0;34m)\u001b[0m\u001b[0;34m\u001b[0m\u001b[0;34m\u001b[0m\u001b[0m\n\u001b[0;32m----> 9\u001b[0;31m \u001b[0mprint\u001b[0m\u001b[0;34m(\u001b[0m\u001b[0mobj1\u001b[0m\u001b[0;34m.\u001b[0m\u001b[0mstatus\u001b[0m\u001b[0;34m)\u001b[0m \u001b[0;31m#Will not work as it is a private member\u001b[0m\u001b[0;34m\u001b[0m\u001b[0;34m\u001b[0m\u001b[0m\n\u001b[0m",
            "\u001b[0;31mAttributeError\u001b[0m: 'Base' object has no attribute 'status'"
          ]
        }
      ]
    },
    {
      "cell_type": "markdown",
      "metadata": {
        "id": "Kd4TbFWyRa15"
      },
      "source": [
        "Using a base class to show private and public members can be printed in the main function itself "
      ]
    },
    {
      "cell_type": "code",
      "metadata": {
        "id": "7HBXU8oLRtrk",
        "colab": {
          "base_uri": "https://localhost:8080/"
        },
        "outputId": "25bc0849-8b73-4251-bd2e-309a4918394c"
      },
      "source": [
        "class Base:\n",
        "    \n",
        "    def __init__(self):\n",
        "        self.name = \"Public Member\"\n",
        "        self.__status = \"Private member\"\n",
        "        print(self.name)\n",
        "        print(self.__status)\n",
        "\n",
        "obj1 = Base()"
      ],
      "execution_count": 5,
      "outputs": [
        {
          "output_type": "stream",
          "name": "stdout",
          "text": [
            "Public Member\n",
            "Private member\n"
          ]
        }
      ]
    },
    {
      "cell_type": "markdown",
      "metadata": {
        "id": "r8gK8KRNTKoG"
      },
      "source": [
        "Using a base and a derived class to show how private and public members work while inheriting"
      ]
    },
    {
      "cell_type": "code",
      "metadata": {
        "colab": {
          "base_uri": "https://localhost:8080/",
          "height": 330
        },
        "collapsed": true,
        "id": "FfCfaUQ1TU69",
        "outputId": "931c1431-8354-4a53-b962-2e1554711ec3"
      },
      "source": [
        "class Base:\n",
        "    \n",
        "    def __init__(self):\n",
        "        self.name = \"Public Member\"\n",
        "        self.__status = \"Private member\"\n",
        "\n",
        "class Derived(Base):\n",
        "    def __init__(self):\n",
        "        Base.__init__(self)\n",
        "        print(self.name)\n",
        "        print(self.__status) #Will give error as derived classes does not inherit private members\n",
        "\n",
        "obj1 = Base()\n",
        "obj2 = Derived() \n"
      ],
      "execution_count": 7,
      "outputs": [
        {
          "output_type": "stream",
          "name": "stdout",
          "text": [
            "Public Member\n"
          ]
        },
        {
          "output_type": "error",
          "ename": "AttributeError",
          "evalue": "ignored",
          "traceback": [
            "\u001b[0;31m---------------------------------------------------------------------------\u001b[0m",
            "\u001b[0;31mAttributeError\u001b[0m                            Traceback (most recent call last)",
            "\u001b[0;32m<ipython-input-7-385e3c225e0a>\u001b[0m in \u001b[0;36m<module>\u001b[0;34m()\u001b[0m\n\u001b[1;32m     12\u001b[0m \u001b[0;34m\u001b[0m\u001b[0m\n\u001b[1;32m     13\u001b[0m \u001b[0mobj1\u001b[0m \u001b[0;34m=\u001b[0m \u001b[0mBase\u001b[0m\u001b[0;34m(\u001b[0m\u001b[0;34m)\u001b[0m\u001b[0;34m\u001b[0m\u001b[0;34m\u001b[0m\u001b[0m\n\u001b[0;32m---> 14\u001b[0;31m \u001b[0mobj2\u001b[0m \u001b[0;34m=\u001b[0m \u001b[0mDerived\u001b[0m\u001b[0;34m(\u001b[0m\u001b[0;34m)\u001b[0m\u001b[0;34m\u001b[0m\u001b[0;34m\u001b[0m\u001b[0m\n\u001b[0m",
            "\u001b[0;32m<ipython-input-7-385e3c225e0a>\u001b[0m in \u001b[0;36m__init__\u001b[0;34m(self)\u001b[0m\n\u001b[1;32m      9\u001b[0m         \u001b[0mBase\u001b[0m\u001b[0;34m.\u001b[0m\u001b[0m__init__\u001b[0m\u001b[0;34m(\u001b[0m\u001b[0mself\u001b[0m\u001b[0;34m)\u001b[0m\u001b[0;34m\u001b[0m\u001b[0;34m\u001b[0m\u001b[0m\n\u001b[1;32m     10\u001b[0m         \u001b[0mprint\u001b[0m\u001b[0;34m(\u001b[0m\u001b[0mself\u001b[0m\u001b[0;34m.\u001b[0m\u001b[0mname\u001b[0m\u001b[0;34m)\u001b[0m\u001b[0;34m\u001b[0m\u001b[0;34m\u001b[0m\u001b[0m\n\u001b[0;32m---> 11\u001b[0;31m         \u001b[0mprint\u001b[0m\u001b[0;34m(\u001b[0m\u001b[0mself\u001b[0m\u001b[0;34m.\u001b[0m\u001b[0m__status\u001b[0m\u001b[0;34m)\u001b[0m\u001b[0;34m\u001b[0m\u001b[0;34m\u001b[0m\u001b[0m\n\u001b[0m\u001b[1;32m     12\u001b[0m \u001b[0;34m\u001b[0m\u001b[0m\n\u001b[1;32m     13\u001b[0m \u001b[0mobj1\u001b[0m \u001b[0;34m=\u001b[0m \u001b[0mBase\u001b[0m\u001b[0;34m(\u001b[0m\u001b[0;34m)\u001b[0m\u001b[0;34m\u001b[0m\u001b[0;34m\u001b[0m\u001b[0m\n",
            "\u001b[0;31mAttributeError\u001b[0m: 'Derived' object has no attribute '_Derived__status'"
          ]
        }
      ]
    },
    {
      "cell_type": "markdown",
      "metadata": {
        "id": "ouIVdCymVI0r"
      },
      "source": [
        "Using a getter and setter function to show that private variables can be changed and taken by functions defined in the class itself"
      ]
    },
    {
      "cell_type": "code",
      "metadata": {
        "colab": {
          "base_uri": "https://localhost:8080/"
        },
        "id": "EURhYGOZVaHc",
        "outputId": "d78c6f0c-93f2-4223-bf2e-1ca6b6cf6b29"
      },
      "source": [
        "class Base:\n",
        "    \n",
        "    def __init__(self):\n",
        "        self.name = \"Public Member\"\n",
        "        self.__status = \"Private member\"\n",
        "    \n",
        "    def getStatus(self):\n",
        "        return self.__status\n",
        "    \n",
        "    def setStatus(self, change):\n",
        "        self.__status = change\n",
        "        \n",
        "obj1 = Base()\n",
        "print(obj1.name)\n",
        "print(obj1.getStatus())\n",
        "str1 = input(\"Enter the status: \")\n",
        "obj1.setStatus(str1)\n",
        "print(obj1.getStatus())"
      ],
      "execution_count": 10,
      "outputs": [
        {
          "output_type": "stream",
          "name": "stdout",
          "text": [
            "Public Member\n",
            "Private member\n",
            "Enter the statusL: Functional\n",
            "Functional\n"
          ]
        }
      ]
    },
    {
      "cell_type": "markdown",
      "metadata": {
        "id": "PICCA5Nkawpc"
      },
      "source": [
        "## Constructors"
      ]
    },
    {
      "cell_type": "markdown",
      "metadata": {
        "id": "OnhQIonfa1e5"
      },
      "source": [
        "Using a normal constructor to get automatically called without any function call"
      ]
    },
    {
      "cell_type": "code",
      "metadata": {
        "colab": {
          "base_uri": "https://localhost:8080/"
        },
        "id": "K5Jmhvrwa0UJ",
        "outputId": "e743e38a-9a57-45ca-8f30-23d5ccb1da70"
      },
      "source": [
        "class Base:\n",
        "    \n",
        "    def __init__(self):\n",
        "        self.name = \"Public Member\"\n",
        "        self.__status = \"Private member\"\n",
        "        print(self.name) #Will print name\n",
        "        print(self.__status) #Will print status\n",
        "\n",
        "obj1 = Base()\n",
        "obj2 = Base()"
      ],
      "execution_count": 13,
      "outputs": [
        {
          "output_type": "stream",
          "name": "stdout",
          "text": [
            "Public Member\n",
            "Private member\n",
            "Public Member\n",
            "Private member\n"
          ]
        }
      ]
    },
    {
      "cell_type": "markdown",
      "metadata": {
        "id": "-vSXrG2eblZF"
      },
      "source": [
        "Using a parametrized constructor"
      ]
    },
    {
      "cell_type": "code",
      "metadata": {
        "colab": {
          "base_uri": "https://localhost:8080/"
        },
        "id": "DLfN4bYGblKD",
        "outputId": "a437b856-ce9b-4c74-ac3a-c1e0fe2b6fd6"
      },
      "source": [
        "class Base:\n",
        "    \n",
        "    def __init__(self, name, status):\n",
        "        self.name = name\n",
        "        self.__status = status\n",
        "    \n",
        "    def getStatus(self):\n",
        "        return self.__status\n",
        "    \n",
        "    def setStatus(self, change):\n",
        "        self.__status = change\n",
        "\n",
        "obj1 = Base(\"udit\", \"different\")\n",
        "print(obj1.name)\n",
        "print(obj1.getStatus())\n"
      ],
      "execution_count": 14,
      "outputs": [
        {
          "output_type": "stream",
          "name": "stdout",
          "text": [
            "udit\n",
            "different\n"
          ]
        }
      ]
    },
    {
      "cell_type": "markdown",
      "metadata": {
        "id": "HG5P_G6Gfa1S"
      },
      "source": [
        "## Revision of stuff done using an Employee class"
      ]
    },
    {
      "cell_type": "code",
      "metadata": {
        "colab": {
          "base_uri": "https://localhost:8080/"
        },
        "id": "J135tWYkfjH5",
        "outputId": "3ce8c485-72d9-4c0c-9f29-eb83e94f0109"
      },
      "source": [
        "class Employee:\n",
        "\n",
        "    raise_amt = 0.01\n",
        "\n",
        "    def __init__(self, fname, lname, pay):\n",
        "        self.fname = fname\n",
        "        self.lname = lname\n",
        "        self.__pay = pay\n",
        "        self.fullname = f\"{fname} {lname}\"\n",
        "        self.email = f\"{fname}.{lname}@companyxyz.in\"\n",
        "\n",
        "    def raisePay(self):\n",
        "        self.__pay += self.__pay * self.raise_amt\n",
        "    \n",
        "    def showPay(self):\n",
        "        return self.__pay\n",
        "    \n",
        "    def setPay(self, newPay):\n",
        "        self.__pay = newPay\n",
        "    \n",
        "    def display(self):\n",
        "        print(f\"{self.fullname} -> {self.email}\")\n",
        "\n",
        "    def changeRaise(self, newval):\n",
        "        self.raise_amt = newval\n",
        "\n",
        "emp_1 = Employee(\"Udit\", \"Jain\", 10000)\n",
        "emp_2 = Employee(\"John\", \"Doe\", 30000)\n",
        "emp_1.display()\n",
        "print(f\"Pay of {emp_1.fullname}: {emp_1.showPay()}\")\n",
        "emp_1.raisePay()\n",
        "emp_2.display()\n",
        "print(f\"Pay of {emp_2.fullname}: {emp_2.showPay()}\")\n",
        "emp_2.raisePay()\n",
        "print(\"After Pay Raise\")\n",
        "print(f\"Pay of {emp_1.fullname}: {emp_1.showPay()}\")\n",
        "print(f\"Pay of {emp_2.fullname}: {emp_2.showPay()}\")"
      ],
      "execution_count": 25,
      "outputs": [
        {
          "output_type": "stream",
          "name": "stdout",
          "text": [
            "Udit Jain -> Udit.Jain@companyxyz.in\n",
            "Pay of Udit Jain: 10000\n",
            "John Doe -> John.Doe@companyxyz.in\n",
            "Pay of John Doe: 30000\n",
            "After Pay Raise\n",
            "Pay of Udit Jain: 10100.0\n",
            "Pay of John Doe: 30300.0\n"
          ]
        }
      ]
    }
  ]
}