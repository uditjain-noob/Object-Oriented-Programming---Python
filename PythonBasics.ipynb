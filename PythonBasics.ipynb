{
 "cells": [
  {
   "cell_type": "markdown",
   "source": [
    "# Python"
   ],
   "metadata": {}
  },
  {
   "cell_type": "markdown",
   "source": [
    "## Keywords and Identifiers"
   ],
   "metadata": {}
  },
  {
   "cell_type": "code",
   "execution_count": null,
   "source": [
    "multline = (10 + 15 * 56 +\r\n",
    "            45 / 2)\r\n",
    "vegetables = [\"cucumber\",\r\n",
    "                \"tomato\"]\r\n",
    "x = 4;y = 5;z = 6;\r\n",
    "print(multline, vegetables, x, y, z, sep = \"\\n\")"
   ],
   "outputs": [],
   "metadata": {}
  },
  {
   "cell_type": "markdown",
   "source": [
    "## Indentation"
   ],
   "metadata": {}
  },
  {
   "cell_type": "code",
   "execution_count": null,
   "source": [
    "for i in range(5):\r\n",
    "    if i % 2 == 0:\r\n",
    "        print(i*\"*\")\r\n",
    "    else:\r\n",
    "        print(i*\"^\")\r\n",
    "if True: print(\"hello\");a = 100"
   ],
   "outputs": [],
   "metadata": {}
  },
  {
   "cell_type": "markdown",
   "source": [
    "## Comments"
   ],
   "metadata": {}
  },
  {
   "cell_type": "code",
   "execution_count": null,
   "source": [
    "#This is a comment using a hashtag\r\n",
    "\"\"\"This is a comment using triple quotes\r\n",
    "which can be used in multiline comments as well\"\"\"\r\n"
   ],
   "outputs": [],
   "metadata": {}
  },
  {
   "cell_type": "code",
   "execution_count": null,
   "source": [
    "#Doc string comments used fro displaying the commments inside a given function\r\n",
    "def func(num):\r\n",
    "    \"\"\"This is a function to double the given number\"\"\"\r\n",
    "    return num*2\r\n",
    "print(func.__doc__)\r\n",
    "print(func(2))\r\n"
   ],
   "outputs": [],
   "metadata": {}
  },
  {
   "cell_type": "markdown",
   "source": [
    "## Variables"
   ],
   "metadata": {}
  },
  {
   "cell_type": "code",
   "execution_count": null,
   "source": [
    "string = \"funny\"\r\n",
    "print(string)\r\n",
    "type(string)"
   ],
   "outputs": [],
   "metadata": {}
  },
  {
   "cell_type": "code",
   "execution_count": null,
   "source": [
    "a = 32\r\n",
    "b = a\r\n",
    "print(id(a))\r\n",
    "print(id(b))\r\n",
    "print(a)\r\n",
    "a = 800\r\n",
    "print(id(a))\r\n",
    "print(a, b)"
   ],
   "outputs": [],
   "metadata": {}
  },
  {
   "cell_type": "code",
   "execution_count": null,
   "source": [
    "a = b = c = 90\r\n",
    "print(a, b, c)\r\n",
    "a, b = 45, 60\r\n",
    "print(a, b, c)\r\n",
    "#Variables can be named with underscores or alphabets"
   ],
   "outputs": [],
   "metadata": {}
  },
  {
   "cell_type": "code",
   "execution_count": null,
   "source": [
    "def func(num):\r\n",
    "    #Scope of variables a, f is in the function adn when printed outside the function you will get an error\r\n",
    "    a = 5\r\n",
    "    f = 10\r\n",
    "    return num + a - f\r\n",
    "print(func(10))\r\n",
    "print(f)"
   ],
   "outputs": [],
   "metadata": {}
  },
  {
   "cell_type": "code",
   "execution_count": null,
   "source": [
    "var = 100\r\n",
    "def func(num):\r\n",
    "    global var\r\n",
    "    print(var)\r\n",
    "    var = \"hundred\"\r\n",
    "    print(var)\r\n",
    "print(var)\r\n",
    "func(10)\r\n",
    "print(var)"
   ],
   "outputs": [],
   "metadata": {}
  },
  {
   "cell_type": "markdown",
   "source": [
    "## Strings"
   ],
   "metadata": {}
  },
  {
   "cell_type": "code",
   "execution_count": null,
   "source": [
    "#Slicing\r\n",
    "ogstr = \"Love, Time, Death\"\r\n",
    "print(ogstr[:])\r\n",
    "print(ogstr[::])\r\n",
    "#First 4 characters\r\n",
    "print(ogstr[:4])\r\n",
    "#Seventh to Eleventh character\r\n",
    "print(ogstr[6:10])\r\n"
   ],
   "outputs": [],
   "metadata": {}
  },
  {
   "cell_type": "code",
   "execution_count": null,
   "source": [
    "ogstr = \"Love, Time, Death\"\r\n",
    "slice_obj1 = slice(0, 4, 1)\r\n",
    "slice_obj2 = slice(6, 10, 1)\r\n",
    "slice_obj3 = slice(12, 17, 1)\r\n",
    "print(ogstr[slice_obj1], ogstr[slice_obj2], ogstr[slice_obj3], sep = \"\\n\")"
   ],
   "outputs": [],
   "metadata": {}
  },
  {
   "cell_type": "code",
   "execution_count": null,
   "source": [
    "#reversing a string\r\n",
    "ogstr = \"Love, Time, Death\"\r\n",
    "print(ogstr[::-1])"
   ],
   "outputs": [],
   "metadata": {}
  },
  {
   "cell_type": "markdown",
   "source": [
    "# Data Types"
   ],
   "metadata": {}
  },
  {
   "cell_type": "code",
   "execution_count": null,
   "source": [
    "a = 100\r\n",
    "b = \"ThisisString\"\r\n",
    "c = 20.5\r\n",
    "d = 4 + 11j\r\n",
    "print(type(a), type(b), type(c), type(d))\r\n"
   ],
   "outputs": [],
   "metadata": {}
  },
  {
   "cell_type": "code",
   "execution_count": null,
   "source": [
    "str1 = \"Butter\"\r\n",
    "str2 = \"Fly\"\r\n",
    "print(str1 + str2)\r\n"
   ],
   "outputs": [],
   "metadata": {}
  },
  {
   "cell_type": "markdown",
   "source": [
    "## Lists"
   ],
   "metadata": {}
  },
  {
   "cell_type": "code",
   "execution_count": null,
   "source": [
    "list1 = [\"blue\", \"red\", \"green\", \"purple\", 1, 18.5]\r\n",
    "print(list1)\r\n",
    "print(type(list1))\r\n",
    "print(\"Fourth element of the string\", list1[3])\r\n",
    "print(\"Third to last element of the string is \", list1[2: ])\r\n",
    "print(\"First to fourth element of the list is\", list1[:3])\r\n",
    "list2 = [\"noir\", \"vert\"]\r\n",
    "print(list1+list2)"
   ],
   "outputs": [],
   "metadata": {}
  },
  {
   "cell_type": "markdown",
   "source": [
    "## Tuple"
   ],
   "metadata": {}
  },
  {
   "cell_type": "code",
   "execution_count": null,
   "source": [
    "tup = (\"sorry\", \"comedy\", 5)\r\n",
    "print(type(tup))\r\n",
    "print(tup)\r\n",
    "print(tup[:1])\r\n",
    "print(tup[1:])\r\n",
    "print(tup + tup)\r\n",
    "print(tup*3)\r\n",
    "tup[2] = \"hi\""
   ],
   "outputs": [],
   "metadata": {}
  },
  {
   "cell_type": "markdown",
   "source": [
    "## Dictionary"
   ],
   "metadata": {}
  },
  {
   "cell_type": "code",
   "execution_count": null,
   "source": [
    "namesdict = {1: \"Rohit\", 2: \"Amit\", 3: \"Pratham\"}\r\n",
    "print(namesdict)\r\n",
    "print(\"First name is \", namesdict[1])\r\n",
    "print(\"Second name is \", namesdict[3])\r\n",
    "print(namesdict.keys())\r\n",
    "print(namesdict.values())"
   ],
   "outputs": [],
   "metadata": {}
  },
  {
   "cell_type": "markdown",
   "source": [
    "## Boolean"
   ],
   "metadata": {}
  },
  {
   "cell_type": "code",
   "execution_count": null,
   "source": [
    "print(type(True))\r\n",
    "print(type(\"h\" in \"comedy\"))"
   ],
   "outputs": [],
   "metadata": {}
  },
  {
   "cell_type": "markdown",
   "source": [
    "## Set"
   ],
   "metadata": {}
  },
  {
   "cell_type": "code",
   "execution_count": null,
   "source": [
    "set1 = set()\r\n",
    "set2 = {\"Udit\", \"comedy\", 98, 0.5}\r\n",
    "print(set2)\r\n",
    "set2.add(\"Funny\")\r\n",
    "print(set2)\r\n",
    "set2.remove(\"Udit\")\r\n",
    "print(set2)"
   ],
   "outputs": [],
   "metadata": {}
  },
  {
   "cell_type": "markdown",
   "source": [
    "# Type Conversion"
   ],
   "metadata": {}
  },
  {
   "cell_type": "markdown",
   "source": [
    "## Implicit Type conversion"
   ],
   "metadata": {}
  },
  {
   "cell_type": "code",
   "execution_count": null,
   "source": [
    "intvar = 10\r\n",
    "intfloat = 5.65\r\n",
    "intnew = intvar + intfloat\r\n",
    "print(intvar, type(intvar))\r\n",
    "print(intfloat, type(intfloat))\r\n",
    "print(intnew, type(intnew))\r\n",
    "intstr = \"500\"\r\n",
    "#print(intvar + intstr)  -> gives an error"
   ],
   "outputs": [],
   "metadata": {}
  },
  {
   "cell_type": "markdown",
   "source": [
    "## Explicit Type conversion"
   ],
   "metadata": {}
  },
  {
   "cell_type": "code",
   "execution_count": null,
   "source": [
    "intnum = 20\r\n",
    "intstr = \"30\"\r\n",
    "print(\"Before type Conversion -\", intstr, type(intstr))\r\n",
    "intstr = int(intstr)\r\n",
    "print(\"After type Conversion -\", intstr, type(intstr))\r\n",
    "print(intstr + intnum)"
   ],
   "outputs": [],
   "metadata": {}
  },
  {
   "cell_type": "markdown",
   "source": [
    "# Operators"
   ],
   "metadata": {}
  },
  {
   "cell_type": "markdown",
   "source": [
    "## Arithmetic Operators"
   ],
   "metadata": {}
  },
  {
   "cell_type": "code",
   "execution_count": null,
   "source": [
    "a = 7\r\n",
    "b = 5\r\n",
    "\r\n",
    "print(\"Addition =\", a + b)\r\n",
    "print(\"Subtraction =\", a - b)\r\n",
    "print(\"Multiplication =\", a * b)\r\n",
    "print(\"Division =\", a / b)\r\n",
    "print(\"Quotient =\", a // b)\r\n",
    "print(\"Remainder =\", a % b)\r\n",
    "print(\"PowerOf =\", a ** b)\r\n"
   ],
   "outputs": [],
   "metadata": {}
  },
  {
   "cell_type": "markdown",
   "source": [
    "## Comparison Operators"
   ],
   "metadata": {}
  },
  {
   "cell_type": "code",
   "execution_count": null,
   "source": [
    "a = 7\r\n",
    "b = 5\r\n",
    "\r\n",
    "print('a > b is',a > b)\r\n",
    "print('a < b is',a < b)\r\n",
    "print('a == b is',a == b)\r\n",
    "print('a <= b is',a <= b)\r\n",
    "print('a >= b is',a >= b)\r\n",
    "print('a != b is',a != b)"
   ],
   "outputs": [],
   "metadata": {}
  },
  {
   "cell_type": "markdown",
   "source": [
    "## Logical Operators"
   ],
   "metadata": {}
  },
  {
   "cell_type": "code",
   "execution_count": null,
   "source": [
    "m = True\r\n",
    "n = False\r\n",
    "print(\"m =\", m, \"n =\", n)\r\n",
    "print('m and n is',m and n)\r\n",
    "print('m or n is',m or n)\r\n",
    "print('not m is',not m)"
   ],
   "outputs": [],
   "metadata": {}
  },
  {
   "cell_type": "markdown",
   "source": [
    "## Assignment Operators"
   ],
   "metadata": {}
  },
  {
   "cell_type": "code",
   "execution_count": null,
   "source": [
    "n = 5\r\n",
    "print(n)\r\n",
    "n += 2\r\n",
    "print(n)\r\n",
    "n -= 4\r\n",
    "print(n)\r\n",
    "n *= 4\r\n",
    "print(n)\r\n",
    "n /= 2\r\n",
    "print(n)\r\n",
    "n **= 2\r\n",
    "print(n)\r\n",
    "n %= 5\r\n",
    "print(n)"
   ],
   "outputs": [],
   "metadata": {}
  },
  {
   "cell_type": "markdown",
   "source": [
    "# Identity Operators\r\n",
    "Checks identity not if they are equal"
   ],
   "metadata": {}
  },
  {
   "cell_type": "code",
   "execution_count": null,
   "source": [
    "num1 = 10\r\n",
    "num2 = 10\r\n",
    "str1 = 'Welcome'\r\n",
    "str2 = 'Welcome'\r\n",
    "list1 = [10,20,30]\r\n",
    "list2 = [10,20,30]\r\n",
    "\r\n",
    "print(num1 is not num2)\r\n",
    "\r\n",
    "print(str1 is str2)\r\n",
    "\r\n",
    "print(list1 is list2)"
   ],
   "outputs": [],
   "metadata": {}
  },
  {
   "cell_type": "markdown",
   "source": [
    "## Membership Operators"
   ],
   "metadata": {}
  },
  {
   "cell_type": "code",
   "execution_count": null,
   "source": [
    "str1 = \"hello\"\r\n",
    "list1 = [1, 2, 3, 4]\r\n",
    "\r\n",
    "print(5 in list1)\r\n",
    "print(\"H\" not in str1)\r\n",
    "print(\"l\" in str1)"
   ],
   "outputs": [],
   "metadata": {}
  },
  {
   "cell_type": "markdown",
   "source": [
    "# Control Loops"
   ],
   "metadata": {}
  },
  {
   "cell_type": "markdown",
   "source": [
    "## IF Statement"
   ],
   "metadata": {}
  },
  {
   "cell_type": "code",
   "execution_count": null,
   "source": [
    "n = 0\r\n",
    "if n > 0:\r\n",
    "    print(f\"{n} is positive\")\r\n",
    "elif n == 0:\r\n",
    "    print(f\"{n} is zero value\")\r\n",
    "else:\r\n",
    "    print(f\"{n} is negative\")"
   ],
   "outputs": [],
   "metadata": {}
  },
  {
   "cell_type": "markdown",
   "source": [
    "Nested IF"
   ],
   "metadata": {}
  },
  {
   "cell_type": "code",
   "execution_count": null,
   "source": [
    "n = 15.0\r\n",
    "if n > 0:\r\n",
    "    if n - int(n) > 0:\r\n",
    "        print(f\"{n} is a positive float type value\")\r\n",
    "    else:\r\n",
    "        print(f\"{n} is a positive integer type value\")"
   ],
   "outputs": [],
   "metadata": {}
  },
  {
   "cell_type": "markdown",
   "source": [
    "## For Loops"
   ],
   "metadata": {}
  },
  {
   "cell_type": "code",
   "execution_count": null,
   "source": [
    "for i in range(6):\r\n",
    "    print(i, end = \" \")\r\n",
    "print(\"\")\r\n",
    "nums = [1, 2, 3, 4 ,5]\r\n",
    "for i in nums:\r\n",
    "    if i%2 == 0:\r\n",
    "        print(i, end = \" \")\r\n"
   ],
   "outputs": [],
   "metadata": {}
  },
  {
   "cell_type": "code",
   "execution_count": null,
   "source": [
    "nums = [1, 2, 3, 4, 5, 6]\r\n",
    "for i in nums:\r\n",
    "    if i == 3:\r\n",
    "        print(\"Element was found\")\r\n",
    "        break\r\n",
    "for i in nums:\r\n",
    "    if i == 3:\r\n",
    "        continue\r\n",
    "    print(i, end = \" \")"
   ],
   "outputs": [],
   "metadata": {}
  },
  {
   "cell_type": "markdown",
   "source": [
    "## While Loops"
   ],
   "metadata": {}
  },
  {
   "cell_type": "code",
   "execution_count": 18,
   "source": [
    "nums = [11, 24, 12, 72, 82]\r\n",
    "n = sums = 0\r\n",
    "while n < len(nums):\r\n",
    "    sums += nums[n]\r\n",
    "    n += 1\r\n",
    "print(f\"Sum of the entire list is {sums}\")\r\n",
    "\r\n",
    "counter = 0\r\n",
    "while counter <= 4:\r\n",
    "    print(counter)\r\n",
    "    counter += 1\r\n",
    "else:\r\n",
    "    print(\"Counter is now greater than 4\")"
   ],
   "outputs": [
    {
     "output_type": "stream",
     "name": "stdout",
     "text": [
      "Sum of the entire list is 201\n",
      "1\n",
      "2\n",
      "3\n",
      "4\n",
      "5\n",
      "Counter is now greater than 4\n"
     ]
    }
   ],
   "metadata": {}
  },
  {
   "cell_type": "code",
   "execution_count": null,
   "source": [],
   "outputs": [],
   "metadata": {}
  }
 ],
 "metadata": {
  "orig_nbformat": 4,
  "language_info": {
   "name": "python",
   "version": "3.8.3",
   "mimetype": "text/x-python",
   "codemirror_mode": {
    "name": "ipython",
    "version": 3
   },
   "pygments_lexer": "ipython3",
   "nbconvert_exporter": "python",
   "file_extension": ".py"
  },
  "kernelspec": {
   "name": "python3",
   "display_name": "Python 3.8.3 64-bit"
  },
  "interpreter": {
   "hash": "5d97ad4eda96f4e0dcd5ae4f97368654619500468c6147550d2a1b2a1881f9a5"
  }
 },
 "nbformat": 4,
 "nbformat_minor": 2
}