{
  "nbformat": 4,
  "nbformat_minor": 0,
  "metadata": {
    "colab": {
      "name": "UditJain_20BCS061_OOPTask1.ipynb",
      "provenance": [],
      "collapsed_sections": [],
      "authorship_tag": "ABX9TyPI6dol2rV/QM/t5EPiuCR3"
    },
    "kernelspec": {
      "name": "python3",
      "display_name": "Python 3"
    },
    "language_info": {
      "name": "python"
    }
  },
  "cells": [
    {
      "cell_type": "markdown",
      "metadata": {
        "id": "w6gYdp7YHNw9"
      },
      "source": [
        "# Lab Assignment 1"
      ]
    },
    {
      "cell_type": "markdown",
      "metadata": {
        "id": "unyvkfEnHWfZ"
      },
      "source": [
        "## Problem 1"
      ]
    },
    {
      "cell_type": "code",
      "metadata": {
        "colab": {
          "base_uri": "https://localhost:8080/"
        },
        "id": "Pl7xcQbRHNJL",
        "outputId": "edbf0fcb-75be-4ae0-a8cf-0da329a426b2"
      },
      "source": [
        "def checkLeap(year):\n",
        "  if (year % 4 == 0 and year % 100 != 0) or year % 400 == 0:\n",
        "    return True\n",
        "  return False\n",
        "\n",
        "yearnum = int(input(\"Enter the year: \"))\n",
        "if checkLeap(yearnum):\n",
        "  print(f\"{yearnum} is a leap year\")\n",
        "else:\n",
        "  print(f\"{yearnum} is not a leap year\")"
      ],
      "execution_count": null,
      "outputs": [
        {
          "output_type": "stream",
          "name": "stdout",
          "text": [
            "Enter the year: 2004\n",
            "2004 is a leap year\n"
          ]
        }
      ]
    },
    {
      "cell_type": "markdown",
      "metadata": {
        "id": "d8f2iPd8I5gS"
      },
      "source": [
        "## Problem 2"
      ]
    },
    {
      "cell_type": "code",
      "metadata": {
        "id": "_XqVLoNkIl7n",
        "colab": {
          "base_uri": "https://localhost:8080/"
        },
        "outputId": "d35031e7-3c2e-41f5-bc45-5109ab4fb7a6"
      },
      "source": [
        "def checkWeird(n):\n",
        "  if (n >= 6 and n <= 20) or n % 2 == 1:\n",
        "    return \"Weird\"\n",
        "  else:\n",
        "    return \"Not Weird\"\n",
        "\n",
        "num = int(input(\"Enter the number: \"))\n",
        "print(checkWeird(num))"
      ],
      "execution_count": null,
      "outputs": [
        {
          "output_type": "stream",
          "name": "stdout",
          "text": [
            "Enter the number: 10\n",
            "Weird\n"
          ]
        }
      ]
    },
    {
      "cell_type": "markdown",
      "metadata": {
        "id": "e1uoKvH-CqWG"
      },
      "source": [
        "## Problem 3"
      ]
    },
    {
      "cell_type": "code",
      "metadata": {
        "colab": {
          "base_uri": "https://localhost:8080/"
        },
        "id": "vKdsr9dBCn3I",
        "outputId": "430cdcf5-3bc5-467b-b1ad-24c02883e6fa"
      },
      "source": [
        "def checkLate(guestlist, person):\n",
        "  if person in guestlist[len(guestlist)//2:-1]:\n",
        "    print(f\"{person} is fasionably late\")\n",
        "  else:\n",
        "    print(f\"{person} is not fashionably late\")\n",
        "\n",
        "Arrivals = [\"Hardik\", \"Rahul\", \"Virat\", \"Rishabh\", \"Mahi\", \"Rohit\", \"Rahane\"]\n",
        "human = input(\"Enter the name of the person wou would like to know if was fashionably late: \")\n",
        "checkLate(Arrivals, human)"
      ],
      "execution_count": null,
      "outputs": [
        {
          "output_type": "stream",
          "name": "stdout",
          "text": [
            "Enter the name of the person wou would like to know if was fashionably late: Rahane\n",
            "Rahane is not fashionably late\n"
          ]
        }
      ]
    },
    {
      "cell_type": "markdown",
      "metadata": {
        "id": "XvvxHyTmE-iK"
      },
      "source": [
        "## Problem 4"
      ]
    },
    {
      "cell_type": "code",
      "metadata": {
        "id": "XtUgjVjFFGyN",
        "colab": {
          "base_uri": "https://localhost:8080/"
        },
        "outputId": "3cd334d0-dda9-4003-c056-2138f36baf4c"
      },
      "source": [
        "def filterArticle(O_list, word):\n",
        "  word = word.lower()\n",
        "  filter_List = []\n",
        "  for i in O_list:\n",
        "    j = i.lower()\n",
        "    j = j.replace(\",\", \"\")\n",
        "    j = j.replace(\".\", \"\")\n",
        "    list1 = j.split(\" \")\n",
        "    if word in list1:\n",
        "      filter_List.append(i)\n",
        "  return filter_List\n",
        "doc_list = [\"The Learn Python Challenge Rohit.\", \"They bought a car\", \"bangalore\"]\n",
        "imp_word = input(\"Enter the word which distinguishes an important article: \")\n",
        "print(filterArticle(doc_list, imp_word))"
      ],
      "execution_count": null,
      "outputs": [
        {
          "output_type": "stream",
          "name": "stdout",
          "text": [
            "['The Learn Python Challenge Rohit.', 'They bought a Rohit']\n"
          ]
        }
      ]
    },
    {
      "cell_type": "markdown",
      "metadata": {
        "id": "MyVsYrKTL3Kb"
      },
      "source": [
        "## Problem 5"
      ]
    },
    {
      "cell_type": "code",
      "metadata": {
        "id": "m-dSN0tZGBdY",
        "colab": {
          "base_uri": "https://localhost:8080/"
        },
        "outputId": "f6fc3797-1b2d-4b78-ea51-de9e88faaf27"
      },
      "source": [
        "def calcGP(BP):\n",
        "    return (BP*0.4) + BP + (BP*0.2)\n",
        "\n",
        "inp_BP = int(input(\"Enter the BP of the Employee: \"))\n",
        "print(f\"Employee Basic Pay: {inp_BP} -> Employee Gross Pay: {calcGP(inp_BP)}\")\n"
      ],
      "execution_count": null,
      "outputs": [
        {
          "output_type": "stream",
          "name": "stdout",
          "text": [
            "Enter the BP of the Employee: 200\n",
            "Employee Basic Pay: 200 -> Employee Gross Pay: 320.0\n"
          ]
        }
      ]
    }
  ]
}