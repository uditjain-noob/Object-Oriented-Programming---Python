{
  "nbformat": 4,
  "nbformat_minor": 0,
  "metadata": {
    "colab": {
      "name": "UditJain_20BCS061_OOPTask3.ipynb",
      "provenance": [],
      "authorship_tag": "ABX9TyMSlUutbbzkwjhlrJQjrG81"
    },
    "kernelspec": {
      "name": "python3",
      "display_name": "Python 3"
    },
    "language_info": {
      "name": "python"
    }
  },
  "cells": [
    {
      "cell_type": "markdown",
      "metadata": {
        "id": "EFZoVN9Alr_1"
      },
      "source": [
        "## Problem 1"
      ]
    },
    {
      "cell_type": "code",
      "metadata": {
        "colab": {
          "base_uri": "https://localhost:8080/",
          "height": 0
        },
        "id": "IlTuHAPolrVn",
        "outputId": "04a76be6-0eaa-4824-989d-d9062099a9ac"
      },
      "source": [
        "class Student:\n",
        "    def __init__(self, name, rollno, age, gender, branch, sem):\n",
        "        self.name = name\n",
        "        self.rollno = rollno\n",
        "        self.age = age\n",
        "        self.gender = gender\n",
        "        self.branch = branch\n",
        "        self.sem = sem\n",
        "    \n",
        "    def dispInfo(self):\n",
        "        print(100*\"=\")\n",
        "        print(\"This is the students information\")\n",
        "        print(f\"Name: {self.name}\")\n",
        "        print(f\"Roll No.: {self.rollno}\")\n",
        "        print(f\"Age: {self.age} years\")\n",
        "        print(f\"Gender: {self.gender}\")\n",
        "        print(f\"Branch: {self.branch}\")\n",
        "        print(f\"Semester: {self.sem}\")\n",
        "    \n",
        "class StudentResultInfo(Student):\n",
        "    def __init__(self, name, rollno, age, gender, branch, sem, totmarks, perc, grade):\n",
        "        Student.__init__(self, name, rollno, age, gender, branch, sem)\n",
        "        self.totmarks = totmarks\n",
        "        self.perc = perc\n",
        "        self.grade = grade\n",
        "    \n",
        "    @classmethod\n",
        "    def createStudent(cls):\n",
        "        print(100*\"=\")\n",
        "        name = input(\"Enter the name of the student: \")\n",
        "        rollno = input(\"Enter the roll number of the student: \")\n",
        "        age = int(input(\"Enter the age fo the student: \"))\n",
        "        gender = input(\"Enter the gender of the student: \")\n",
        "        branch = input(\"Enter the branch of the student: \")\n",
        "        sem = int(input(\"Enter which semester the student is in: \"))\n",
        "        totmarks = int(input(\"enter the total marks of the student: \"))\n",
        "        perc = int(input(\"enter the percentage of the student: \"))\n",
        "        grade = input(\"Enter the grade iof the student: \")\n",
        "        return StudentResultInfo(name, rollno, age, gender, branch, sem, totmarks, perc, grade)\n",
        "    \n",
        "    def dispResultsInfo(self):\n",
        "        print(100*\"=\")\n",
        "        print(f\"This is the students result information: \")\n",
        "        print(f\"Total Marks: {self.totmarks}\")\n",
        "        print(f\"Percentage: {self.perc}%\")\n",
        "        print(f\"Grade: {self.grade}\")\n",
        "\n",
        "s1 = StudentResultInfo.createStudent()\n",
        "s1.dispInfo()\n",
        "s1.dispResultsInfo()"
      ],
      "execution_count": 3,
      "outputs": [
        {
          "output_type": "stream",
          "name": "stdout",
          "text": [
            "====================================================================================================\n",
            "Enter the name of the student: udit\n",
            "Enter the roll number of the student: 61\n",
            "Enter the age fo the student: 20\n",
            "Enter the gender of the student: Male\n",
            "Enter the branch of the student: CSE\n",
            "Enter which semester the student is in: 3\n",
            "enter the total marks of the student: 200\n",
            "enter the percentage of the student: 75\n",
            "Enter the grade iof the student: b\n",
            "====================================================================================================\n",
            "This is the students information\n",
            "Name: udit\n",
            "Roll No.: 61\n",
            "Age: 20 years\n",
            "Gender: Male\n",
            "Branch: CSE\n",
            "Semester: 3\n",
            "====================================================================================================\n",
            "This is the students result information: \n",
            "Total Marks: 200\n",
            "Percentage: 75%\n",
            "Grade: b\n"
          ]
        }
      ]
    },
    {
      "cell_type": "markdown",
      "metadata": {
        "id": "3Kzeouf6q55X"
      },
      "source": [
        "## Problem 2"
      ]
    },
    {
      "cell_type": "code",
      "metadata": {
        "colab": {
          "base_uri": "https://localhost:8080/",
          "height": 0
        },
        "id": "Ocjy-Sgwq9go",
        "outputId": "02d64a0b-1724-4108-9252-47e2ea3566d3"
      },
      "source": [
        "class System:\n",
        "\n",
        "    threshold = 100\n",
        "\n",
        "    def __init__(self, author, descr, size):\n",
        "        self.author = author\n",
        "        self.descr = descr\n",
        "        self.size = size\n",
        "    \n",
        "    def checkSize(self):\n",
        "        if self.size > self.threshold:\n",
        "            print(\"File is too great of a size\")\n",
        "        else:\n",
        "            print(\"File is of appropriate size\")\n",
        "\n",
        "    def printInfo(self):\n",
        "        print(100*\"=\")\n",
        "        print(\"The information of the file is: \")\n",
        "        print(f\"Author: {self.author}\")\n",
        "        print(f\"Description: {self.descr}\")\n",
        "        print(f\"Size: {self.size}\")\n",
        "\n",
        "class PDF(System):\n",
        "\n",
        "    def __init__(self, author, descr, size):\n",
        "        System.__init__(self, author, descr, size)\n",
        "        self.type = \"pdf\"\n",
        "    \n",
        "    def dispInfo(self):\n",
        "        self.printInfo()\n",
        "        print(f\"Type: {self.type}\")\n",
        "\n",
        "class Picture(System):\n",
        "\n",
        "    def __init__(self, author, descr, size, dim):\n",
        "        System.__init__(self, author, descr, size)\n",
        "        self.type = \"jpg\"\n",
        "        self.dim = dim\n",
        "    \n",
        "    def dispInfo(self):\n",
        "        self.printInfo()\n",
        "        print(f\"Type: {self.type}\")\n",
        "        print(f\"Dimensions (Length:Width): {self.dim[0]}:{self.dim[1]}\")\n",
        "    \n",
        "    def checkDim(self):\n",
        "        if self.dim[0] <= 1280 and self.dim[1] <= 720:\n",
        "            print(f\"The dimensions of image are appropriate\")\n",
        "        else:\n",
        "            print(f\"The dimensions of the iamge are very large\")\n",
        "    \n",
        "file1_jpg = Picture(\"udit\", \"bird\", 46, [720, 440])\n",
        "file1_jpg.dispInfo()\n",
        "file1_jpg.checkDim()\n",
        "\n",
        "file2_pdf = PDF(\"Rahul\", \"Assignment\", 101)\n",
        "file2_pdf.dispInfo()\n",
        "file2_pdf.checkSize()\n"
      ],
      "execution_count": 7,
      "outputs": [
        {
          "output_type": "stream",
          "name": "stdout",
          "text": [
            "====================================================================================================\n",
            "The information of the file is: \n",
            "Author: udit\n",
            "Description: bird\n",
            "Size: 46\n",
            "Type: jpg\n",
            "Dimensions (Length:Width): 720:440\n",
            "The dimensions of image are appropriate\n",
            "====================================================================================================\n",
            "The information of the file is: \n",
            "Author: Rahul\n",
            "Description: Assignment\n",
            "Size: 101\n",
            "Type: pdf\n",
            "File is too great of a size\n"
          ]
        }
      ]
    },
    {
      "cell_type": "markdown",
      "metadata": {
        "id": "t7mZ5EOJyzyJ"
      },
      "source": [
        "## Problem 3"
      ]
    },
    {
      "cell_type": "code",
      "metadata": {
        "colab": {
          "base_uri": "https://localhost:8080/",
          "height": 0
        },
        "id": "0b3bxmJty2DH",
        "outputId": "ba174642-c78b-452b-82e5-d68eb96ab1b2"
      },
      "source": [
        "class Vehicle:\n",
        "\n",
        "    def __init__(self, name, mile, cap):\n",
        "        self.name = name\n",
        "        self.mile = mile\n",
        "        self.cap = cap\n",
        "    \n",
        "    def fare(self):\n",
        "        return self.cap * 100\n",
        "\n",
        "    def printDetails(self):\n",
        "        print(100*\"=\")\n",
        "        print(\"The information of the vehicle is: \")\n",
        "        print(f\"Name: {self.name}\")\n",
        "        print(f\"Mileage = {self.mile}\")\n",
        "        print(f\"Capacity: {self.cap}\")\n",
        "\n",
        "class Bus(Vehicle):\n",
        "\n",
        "    def __init__(self, name , mile, cap = 50):\n",
        "        Vehicle.__init__(self, name , mile, cap)\n",
        "        self.cap = 50\n",
        "    \n",
        "    def busfare(self):\n",
        "        return 1.1 * self.fare()\n",
        "\n",
        "veh1 = Vehicle(\"Prius\", 9, 4)\n",
        "veh1.printDetails()\n",
        "print(f\"The Fare of the vehicle is: {veh1.fare()}\")\n",
        "veh2 = Bus(\"School\", 8)\n",
        "veh2.printDetails()\n",
        "print(f\"The fare of the vehicle is: {veh2.busfare()}\")"
      ],
      "execution_count": 10,
      "outputs": [
        {
          "output_type": "stream",
          "name": "stdout",
          "text": [
            "====================================================================================================\n",
            "The information of the vehicle is: \n",
            "Name: Prius\n",
            "Mileage = 9\n",
            "Capacity: 4\n",
            "The Fare of the vehicle is: 400\n",
            "====================================================================================================\n",
            "The information of the vehicle is: \n",
            "Name: School\n",
            "Mileage = 8\n",
            "Capacity: 50\n",
            "The fare of the vehicle is: 5500.0\n"
          ]
        }
      ]
    }
  ]
}