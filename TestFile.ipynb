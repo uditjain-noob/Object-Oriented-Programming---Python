{
  "nbformat": 4,
  "nbformat_minor": 0,
  "metadata": {
    "colab": {
      "name": "Untitled0.ipynb",
      "provenance": [],
      "toc_visible": true,
      "authorship_tag": "ABX9TyNjRXTymnzWinoGBHp9Jgwd"
    },
    "kernelspec": {
      "name": "python3",
      "display_name": "Python 3"
    },
    "language_info": {
      "name": "python"
    }
  },
  "cells": [
    {
      "cell_type": "code",
      "metadata": {
        "colab": {
          "base_uri": "https://localhost:8080/"
        },
        "id": "FVOXqrZzlYks",
        "outputId": "bf18bb0e-9a5d-403c-c80c-21d160a68f31"
      },
      "source": [
        "print(\"Hello my name is udit\")"
      ],
      "execution_count": 2,
      "outputs": [
        {
          "output_type": "stream",
          "text": [
            "Hello my name is udit\n"
          ],
          "name": "stdout"
        }
      ]
    }
  ]
}