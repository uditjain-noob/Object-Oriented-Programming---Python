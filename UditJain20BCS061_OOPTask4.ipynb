{
  "nbformat": 4,
  "nbformat_minor": 0,
  "metadata": {
    "colab": {
      "name": "UditJain20BCS061_OOPTask4.ipynb",
      "provenance": [],
      "authorship_tag": "ABX9TyPn/FMle8jXgn40LLhvOpDK",
      "include_colab_link": true
    },
    "kernelspec": {
      "name": "python3",
      "display_name": "Python 3"
    },
    "language_info": {
      "name": "python"
    }
  },
  "cells": [
    {
      "cell_type": "markdown",
      "metadata": {
        "id": "view-in-github",
        "colab_type": "text"
      },
      "source": [
        "<a href=\"https://colab.research.google.com/github/uditjain-noob/Object-Oriented-Programming---Python/blob/main/UditJain20BCS061_OOPTask4.ipynb\" target=\"_parent\"><img src=\"https://colab.research.google.com/assets/colab-badge.svg\" alt=\"Open In Colab\"/></a>"
      ]
    },
    {
      "cell_type": "markdown",
      "metadata": {
        "id": "krai1_Wgzc6b"
      },
      "source": [
        "# Object Oriented Programming Task 4"
      ]
    },
    {
      "cell_type": "markdown",
      "metadata": {
        "id": "pOmV7P23zkrc"
      },
      "source": [
        "## Question 1"
      ]
    },
    {
      "cell_type": "markdown",
      "metadata": {
        "id": "GnLFZXhQ1i-j"
      },
      "source": [
        "Write a python code to create a class node with data and address of next node as\n",
        "parameters. Derive stack class from node class with top position or head node position as a\n",
        "parameter and also perform the following operations.\n",
        "Check stack is empty\n",
        "\n",
        "1.   Check stack is empty\n",
        "2.   Add data to stack\n",
        "3.   Delete data from the stack\n",
        "4.   Display the elements of the stack.\n",
        "5.   Deallocate the memory assigned to each node using destructors."
      ]
    },
    {
      "cell_type": "code",
      "metadata": {
        "colab": {
          "base_uri": "https://localhost:8080/",
          "height": 0
        },
        "id": "1esRSD7DzJAI",
        "outputId": "a68b6de7-6045-4337-a413-40194d8ecf60"
      },
      "source": [
        "class Node:\n",
        "\n",
        "    def __init__(self, val):\n",
        "        self.val = val\n",
        "        self.next = None\n",
        "\n",
        "    def __del__(self):\n",
        "        print(f\"{self.val} is deleted\")\n",
        "\n",
        "class Stack:\n",
        "\n",
        "    def __init__(self):\n",
        "        self.top = None\n",
        "\n",
        "    def isEmpty(self):\n",
        "        if self.top == None:\n",
        "            return True\n",
        "        return False\n",
        "    \n",
        "    def push(self, val):\n",
        "\n",
        "        if self.isEmpty():\n",
        "            self.top = Node(val)\n",
        "        else:\n",
        "            new = Node(val)\n",
        "            new.next = self.top\n",
        "            self.top = new\n",
        "    \n",
        "    def pop(self):\n",
        "        if self.isEmpty():\n",
        "            print(\"Stack is Empty\")\n",
        "        else:\n",
        "            popval = self.top.val\n",
        "            self.top = self.top.next\n",
        "            return popval\n",
        "        \n",
        "    def disp_Stack(self):\n",
        "        if self.isEmpty():\n",
        "            print(\"Stack is Empty\")\n",
        "        else:\n",
        "            temp = self.top\n",
        "            print(\"Stack\", end = \" \")\n",
        "            while temp != None:\n",
        "                print(f\" --> {temp.val}\", end = \"\")\n",
        "                temp = temp.next\n",
        "        return\n",
        "\n",
        "    def __del__(self):\n",
        "        if self.isEmpty():\n",
        "            print(\"Stack is Empty\")\n",
        "        \n",
        "        else:\n",
        "            temp = self.top\n",
        "            while temp != None:\n",
        "                some = temp.next\n",
        "                del temp\n",
        "                temp = some\n",
        "        return\n",
        "\n",
        "s = Stack()\n",
        "s.push(1)\n",
        "s.push(2)\n",
        "s.push(3)\n",
        "s.push(4)\n",
        "s.push(5)\n",
        "s.push(6)\n",
        "val = s.pop()\n",
        "val = s.pop()\n",
        "s.disp_Stack()\n",
        "print()\n",
        "del s"
      ],
      "execution_count": 2,
      "outputs": [
        {
          "output_type": "stream",
          "name": "stdout",
          "text": [
            "6 is deleted\n",
            "5 is deleted\n",
            "Stack  --> 4 --> 3 --> 2 --> 1\n",
            "4 is deleted\n",
            "3 is deleted\n",
            "2 is deleted\n",
            "1 is deleted\n"
          ]
        }
      ]
    },
    {
      "cell_type": "markdown",
      "metadata": {
        "id": "xzoWr8lAz-rv"
      },
      "source": [
        "## Question 2"
      ]
    },
    {
      "cell_type": "markdown",
      "metadata": {
        "id": "00bcijSR1UW-"
      },
      "source": [
        "Code to find the area of a rectangle in two ways: Paremetrized constructor and Default Constructor"
      ]
    },
    {
      "cell_type": "markdown",
      "metadata": {
        "id": "Je9dRhku0uyT"
      },
      "source": [
        "### Parametrized Constructor"
      ]
    },
    {
      "cell_type": "code",
      "metadata": {
        "colab": {
          "base_uri": "https://localhost:8080/",
          "height": 0
        },
        "id": "I3IYT9OQ0C45",
        "outputId": "de88fb72-f2f0-4886-dcf4-b57a155b5440"
      },
      "source": [
        "class Rectangle:\n",
        "\n",
        "    def __init__(self, l, b):\n",
        "        self.l = l\n",
        "        self.b = b\n",
        "        self.area = l*b\n",
        "\n",
        "r1 = Rectangle(3, 4)\n",
        "print(f\"Rectangle area is: {r1.area}\")"
      ],
      "execution_count": 6,
      "outputs": [
        {
          "output_type": "stream",
          "name": "stdout",
          "text": [
            "Rectangle area is: 12\n"
          ]
        }
      ]
    },
    {
      "cell_type": "markdown",
      "metadata": {
        "id": "-ihP5GMX0tIM"
      },
      "source": [
        "### Default Constructor"
      ]
    },
    {
      "cell_type": "code",
      "metadata": {
        "colab": {
          "base_uri": "https://localhost:8080/",
          "height": 0
        },
        "id": "M1dHgB4W0tdm",
        "outputId": "678cc378-ebcc-4216-96a5-8494376f809c"
      },
      "source": [
        "class Rectangle:\n",
        "\n",
        "    def __init__(self):\n",
        "        self.l = int(input(\"Enter the length of the rectangle: \"))\n",
        "        self.b = int(input(\"Enter the breadth of the rectangle: \"))\n",
        "        self.area = self.l * self.b\n",
        "    \n",
        "r2 = Rectangle()\n",
        "print(f\"Rectangle area is: {r2.area}\")"
      ],
      "execution_count": 5,
      "outputs": [
        {
          "output_type": "stream",
          "name": "stdout",
          "text": [
            "Enter the length of the rectangle: 3\n",
            "Enter the breadth of the rectangle: 4\n",
            "Rectangle area is: 12\n"
          ]
        }
      ]
    },
    {
      "cell_type": "markdown",
      "metadata": {
        "id": "rhjSddOu2Ek5"
      },
      "source": [
        "## Question 3"
      ]
    },
    {
      "cell_type": "markdown",
      "metadata": {
        "id": "0AYmyZ4A2HHT"
      },
      "source": [
        "Write a python program to implement queue operations using constructors and destructors."
      ]
    },
    {
      "cell_type": "code",
      "metadata": {
        "colab": {
          "base_uri": "https://localhost:8080/",
          "height": 0
        },
        "id": "9t_IMJg02Osu",
        "outputId": "f1311df0-837c-4c8c-94e9-3e7f86a88b95"
      },
      "source": [
        "class Queue:\n",
        "\n",
        "    def __init__(self):\n",
        "        self.q = []\n",
        "    \n",
        "    def isEmpty(self):\n",
        "        if len(self.q) == 0:\n",
        "            return True\n",
        "        return False\n",
        "\n",
        "    def enQueue(self, item):\n",
        "        self.q.insert(0, item)\n",
        "    \n",
        "    def deQueue(self):\n",
        "        return self.q.pop()\n",
        "    \n",
        "    def dispQueue(self):\n",
        "        print(50*\"=\")\n",
        "        print(\"The queue is: \", end = \"\")\n",
        "        for i in self.q:\n",
        "            print(f\" --> {i}\", end = \"\")\n",
        "    \n",
        "    def __del__(self):\n",
        "        print(\"Queue is deleted\")\n",
        "\n",
        "q1 = Queue()\n",
        "q1.enQueue(1)\n",
        "q1.enQueue(2)\n",
        "q1.enQueue(3)\n",
        "q1.enQueue(4)\n",
        "q1.enQueue(5)\n",
        "q1.dispQueue()\n",
        "print()\n",
        "q1.deQueue()\n",
        "q1.deQueue()\n",
        "q1.dispQueue()\n",
        "print()\n",
        "del q1"
      ],
      "execution_count": 4,
      "outputs": [
        {
          "output_type": "stream",
          "name": "stdout",
          "text": [
            "Queue is deleted\n",
            "==================================================\n",
            "The queue is:  --> 5 --> 4 --> 3 --> 2 --> 1\n",
            "==================================================\n",
            "The queue is:  --> 5 --> 4 --> 3\n",
            "Queue is deleted\n"
          ]
        }
      ]
    }
  ]
}