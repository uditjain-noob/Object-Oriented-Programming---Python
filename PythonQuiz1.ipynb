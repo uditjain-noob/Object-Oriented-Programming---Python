{
  "nbformat": 4,
  "nbformat_minor": 0,
  "metadata": {
    "colab": {
      "name": "PythonQuiz1.ipynb",
      "provenance": [],
      "toc_visible": true,
      "authorship_tag": "ABX9TyPkPyddwAa5Ko9SIQQon5lh"
    },
    "kernelspec": {
      "name": "python3",
      "display_name": "Python 3"
    },
    "language_info": {
      "name": "python"
    }
  },
  "cells": [
    {
      "cell_type": "markdown",
      "metadata": {
        "id": "DwtnpQDghpZq"
      },
      "source": [
        "# Section D"
      ]
    },
    {
      "cell_type": "markdown",
      "metadata": {
        "id": "YFXaiTRih36X"
      },
      "source": [
        "Write a function that returns the maximum of two numbers."
      ]
    },
    {
      "cell_type": "code",
      "metadata": {
        "colab": {
          "base_uri": "https://localhost:8080/"
        },
        "id": "_e1oxWlkiAtf",
        "outputId": "dc5d9d36-13af-4e49-95c8-5fcdfe449fab"
      },
      "source": [
        "def maxfunc(a, b):\n",
        "  if a > b:\n",
        "    return a\n",
        "  return b\n",
        "\n",
        "a = float(input(\"Enter a number \"))\n",
        "b = float(input(\"Enter a number \"))\n",
        "print(f\"Greater of {a} and {b} is: {maxfunc(a, b)}\")"
      ],
      "execution_count": 1,
      "outputs": [
        {
          "output_type": "stream",
          "text": [
            "Enter a number2.34\n",
            "Enter a number8.34\n",
            "Greater of 2.34 and 8.34 is: 8.34\n"
          ],
          "name": "stdout"
        }
      ]
    },
    {
      "cell_type": "markdown",
      "metadata": {
        "id": "1s270IUqi3EF"
      },
      "source": [
        "Write a function called numberGame that takes a number.\n",
        "If the number is divisible by 3, it should return “number”.\n",
        "\n",
        "1.   If it is divisible by 5, it should return “Game”.\n",
        "2.   If it is divisible by both 3 and 5, it should return “numberGame”\n",
        "3.   Otherwise, it should return the same number.\n"
      ]
    },
    {
      "cell_type": "code",
      "metadata": {
        "colab": {
          "base_uri": "https://localhost:8080/"
        },
        "id": "1sKxc-r3jPz_",
        "outputId": "3cf80e6b-638e-49bb-dda0-3947528ddc5d"
      },
      "source": [
        "def numberGame(num):\n",
        "  if num % 3 == 0:\n",
        "    if num % 5 == 0:\n",
        "      return \"numberGame\"\n",
        "    else:\n",
        "      return \"number\"\n",
        "  elif num % 5 == 0:\n",
        "    return \"Game\"\n",
        "  else:\n",
        "    return num\n",
        "n = int(input(\"Enter a number: \"))\n",
        "print(f\"{numberGame(n)}\")\n"
      ],
      "execution_count": 5,
      "outputs": [
        {
          "output_type": "stream",
          "text": [
            "Enter a number: 9\n",
            "number\n"
          ],
          "name": "stdout"
        }
      ]
    },
    {
      "cell_type": "markdown",
      "metadata": {
        "id": "yD1RKRaqkkgg"
      },
      "source": [
        "Write a function for checking the speed of drivers. This function should have one parameter: speed.\n",
        "1. If speed is less than 70, it should print “Ok”.\n",
        "2. Otherwise, for every 5km above the speed limit (70), it should give the driver one demerit point and print the total number of demerit points. For example, if the speed is 80, it should print: “Points: 2”."
      ]
    },
    {
      "cell_type": "code",
      "metadata": {
        "colab": {
          "base_uri": "https://localhost:8080/"
        },
        "id": "KQa_ZT-2lNOa",
        "outputId": "e48f2d4b-ef52-45c3-ae0a-2b4e67b90cb8"
      },
      "source": [
        "def checkSpeed(speed):\n",
        "  if speed < 70:\n",
        "    print(\"Ok\")\n",
        "  else:\n",
        "    points = (speed - 70) // 5\n",
        "    print(f\"Points: {(speed - 70)//5}\")\n",
        "    if points > 12:\n",
        "      print(\"License Suspended\")\n",
        "\n",
        "spd = int(input(\"Enter the speed of the Vehicle \"))\n",
        "checkSpeed(spd)"
      ],
      "execution_count": 13,
      "outputs": [
        {
          "output_type": "stream",
          "text": [
            "Enter the speed of the Vehicle 40\n",
            "Ok\n"
          ],
          "name": "stdout"
        }
      ]
    },
    {
      "cell_type": "markdown",
      "metadata": {
        "id": "d_urWXo4mQqB"
      },
      "source": [
        "Write a function called showNumbers that takes a parameter called limit. It should print all the numbers between 0 and limit with a label to identify the even and odd numbers. For example, if the limit is 3, it should print:\n",
        "\n",
        "*   0 EVEN\n",
        "*   1 ODD\n",
        "*   2 EVEN\n",
        "*   3 ODD\n"
      ]
    },
    {
      "cell_type": "code",
      "metadata": {
        "colab": {
          "base_uri": "https://localhost:8080/"
        },
        "id": "Ed1iU772nKKn",
        "outputId": "d2677377-17d5-43aa-9e43-9eeb89e1463d"
      },
      "source": [
        "def showNumbers(limit):\n",
        "  for i in range(limit + 1):\n",
        "    if i % 2 == 0:\n",
        "      check = \"EVEN\"\n",
        "    else:\n",
        "      check = \"ODD\"\n",
        "    print(f\"{i} {check}\")\n",
        "n = int(input(\"Enter the number of numbers you would like \"))\n",
        "showNumbers(n)"
      ],
      "execution_count": 16,
      "outputs": [
        {
          "output_type": "stream",
          "text": [
            "Enter the number of numbers you would like 9\n",
            "0 EVEN\n",
            "1 ODD\n",
            "2 EVEN\n",
            "3 ODD\n",
            "4 EVEN\n",
            "5 ODD\n",
            "6 EVEN\n",
            "7 ODD\n",
            "8 EVEN\n",
            "9 ODD\n"
          ],
          "name": "stdout"
        }
      ]
    },
    {
      "cell_type": "markdown",
      "metadata": {
        "id": "DUBdxz6gn5ai"
      },
      "source": [
        "Write a function called showSigns(rows). If rows is 5, it should print the following:\n",
        "* &\n",
        "* &&\n",
        "* &&&\n",
        "* &&&&\n",
        "* &&&&&"
      ]
    },
    {
      "cell_type": "code",
      "metadata": {
        "colab": {
          "base_uri": "https://localhost:8080/"
        },
        "id": "ZI66yBgsof4l",
        "outputId": "726575fe-0a9b-40b1-b6c3-da9913d3f11e"
      },
      "source": [
        "def showSigns(rows):\n",
        "  for i in range(1, rows + 1):\n",
        "    print(i*\"&\")\n",
        "n = int(input(\"Enter the number of rows \"))\n",
        "showSigns(n)"
      ],
      "execution_count": 15,
      "outputs": [
        {
          "output_type": "stream",
          "text": [
            "Enter the number of rows 7\n",
            "&\n",
            "&&\n",
            "&&&\n",
            "&&&&\n",
            "&&&&&\n",
            "&&&&&&\n",
            "&&&&&&&\n"
          ],
          "name": "stdout"
        }
      ]
    },
    {
      "cell_type": "markdown",
      "metadata": {
        "id": "QxAcNfFhpFro"
      },
      "source": [
        "Write a function that prints all the prime numbers between 0 and max where max is a parameter."
      ]
    },
    {
      "cell_type": "code",
      "metadata": {
        "colab": {
          "base_uri": "https://localhost:8080/"
        },
        "id": "TOI0DpGmpJl2",
        "outputId": "56256cce-4abf-4dee-9245-e56f69b04aed"
      },
      "source": [
        "def printPrimes(max):\n",
        "  for i in range(2, max + 1):\n",
        "    if isPrime(i):\n",
        "      print(i, end = \" \")\n",
        "def isPrime(n):\n",
        "  for i in range(2, n):\n",
        "    if n % i == 0:\n",
        "      return False\n",
        "  return True\n",
        "\n",
        "n = int(input(\"Enter the limit of the prime number you would like: \"))\n",
        "printPrimes(n)"
      ],
      "execution_count": 17,
      "outputs": [
        {
          "output_type": "stream",
          "text": [
            "Enter the limit of the prime number you would like: 15\n",
            "2 3 5 7 11 13 "
          ],
          "name": "stdout"
        }
      ]
    }
  ]
}