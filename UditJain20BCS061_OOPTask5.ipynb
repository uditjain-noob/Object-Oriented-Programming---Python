{
  "nbformat": 4,
  "nbformat_minor": 0,
  "metadata": {
    "colab": {
      "name": "UditJain20BCS061_OOPTask5.ipynb",
      "provenance": [],
      "authorship_tag": "ABX9TyPmKg/eVZzZW9YJBk1AxrNM"
    },
    "kernelspec": {
      "name": "python3",
      "display_name": "Python 3"
    },
    "language_info": {
      "name": "python"
    }
  },
  "cells": [
    {
      "cell_type": "markdown",
      "metadata": {
        "id": "IDt1ObgQoWr0"
      },
      "source": [
        "# OOP Task - 5"
      ]
    },
    {
      "cell_type": "markdown",
      "metadata": {
        "id": "rR6A-H30oanQ"
      },
      "source": [
        "## Problem 1"
      ]
    },
    {
      "cell_type": "markdown",
      "metadata": {
        "id": "XSUDOJvfrtfc"
      },
      "source": [
        "Write a Python programme to create the parent class shape, derive the subclasses circle,\n",
        "square, and rectangle from the class shape, and demonstrate polymorphism in inheritance\n",
        "using a member function area ()."
      ]
    },
    {
      "cell_type": "code",
      "metadata": {
        "colab": {
          "base_uri": "https://localhost:8080/",
          "height": 0
        },
        "id": "UAKuX2W7n7cb",
        "outputId": "64a7abe1-2b37-4a94-c0ae-81c7e2ac4b4c"
      },
      "source": [
        "from math import pi\n",
        "from abc import ABC, abstractmethod\n",
        "\n",
        "class Shape(ABC):\n",
        "\n",
        "  @abstractmethod\n",
        "  def area():\n",
        "    pass\n",
        "\n",
        "class Rectangle(Shape):\n",
        "\n",
        "  def __init__(self, length, breadth):\n",
        "    self.breadth = breadth\n",
        "    self.length = length\n",
        "  \n",
        "  def area(self):\n",
        "    return self.length * self.breadth\n",
        "  \n",
        "class Circle(Shape):\n",
        "\n",
        "  def __init__(self, radius):\n",
        "    self.radius = radius\n",
        "\n",
        "  def area(self):\n",
        "    return pi * self.radius * self.radius\n",
        "  \n",
        "class Square(Shape):\n",
        "\n",
        "  def __init__(self, side):\n",
        "    self.side = side\n",
        "  \n",
        "  def area(self):\n",
        "    return self.side ** 2\n",
        "\n",
        "C = Circle(11)\n",
        "S = Square(7)\n",
        "R = Rectangle(4, 9)\n",
        "\n",
        "print(C.area())\n",
        "print(S.area())\n",
        "print(R.area())"
      ],
      "execution_count": 9,
      "outputs": [
        {
          "output_type": "stream",
          "name": "stdout",
          "text": [
            "380.1327110843649\n",
            "49\n",
            "36\n"
          ]
        }
      ]
    },
    {
      "cell_type": "markdown",
      "metadata": {
        "id": "8WIwwkawrzos"
      },
      "source": [
        "## Problem 2"
      ]
    },
    {
      "cell_type": "markdown",
      "metadata": {
        "id": "eRlFXPdUr2RX"
      },
      "source": [
        "The family has decided to travel by road from Dharwad to Belagavi, and they have\n",
        "chosen to estimate the cost before starting on this journey. Write python code to create\n",
        "the parent class Travel with member functions include the number of passengers, the\n",
        "distance travelled, and the mode of transportation. Derive two subclasses, train and bus,\n",
        "from the parent class, each with a member function that calculates the cost of trip. Also,\n",
        "keep the numbers of passengers as a private member of the parent class and try to access\n",
        "it through the child class to estimate costs.\n",
        "[Note: Assume cost of travelling/person through train = 60 rs, cost of travelling /person\n",
        "through bus= 100 rs]."
      ]
    },
    {
      "cell_type": "code",
      "metadata": {
        "colab": {
          "base_uri": "https://localhost:8080/",
          "height": 0
        },
        "id": "NSHg5lYmojCG",
        "outputId": "3609ed33-3ca1-488a-90f0-fbfae133c768"
      },
      "source": [
        "from abc import ABC, abstractmethod\n",
        "\n",
        "\n",
        "class Travel():\n",
        "  def __init__(self, num_pass, dist, mode):\n",
        "    self.__npass = num_pass\n",
        "    self.dist = dist\n",
        "    self.mode = mode\n",
        "  \n",
        "  def getPass(self):\n",
        "    return self.__npass\n",
        "  \n",
        "  @abstractmethod\n",
        "  def costCalc(self):\n",
        "    pass\n",
        "\n",
        "class Train(Travel):\n",
        "\n",
        "  def __init__(self, npass, dist, mode):\n",
        "    super().__init__(npass, dist, mode)\n",
        "  \n",
        "  def costCalc(self):\n",
        "    return 60 * self.getPass()\n",
        "\n",
        "class Bus(Travel):\n",
        "  def __init__(self, npass, dist, mode):\n",
        "    super().__init__(npass, dist, mode)\n",
        "  \n",
        "  def costCalc(self):\n",
        "    return 100 * self.getPass()\n",
        "\n",
        "T = Train(15, 20, \"Tracks\")\n",
        "print(T.costCalc())\n",
        "\n",
        "B = Bus(30, 20, \"Road\")\n",
        "print(B.costCalc())\n",
        "  \n",
        "\n",
        "\n"
      ],
      "execution_count": 20,
      "outputs": [
        {
          "output_type": "stream",
          "name": "stdout",
          "text": [
            "900\n",
            "3000\n"
          ]
        }
      ]
    },
    {
      "cell_type": "markdown",
      "metadata": {
        "id": "Xg_1t7PBvRUC"
      },
      "source": [
        "## Problem 3"
      ]
    },
    {
      "cell_type": "markdown",
      "metadata": {
        "id": "Uw6AvjPTvVuK"
      },
      "source": [
        "Assume that there a class Car with model number as its member variable. Write a python\n",
        "program to swap the values of model number in Car objects c1 and c2."
      ]
    },
    {
      "cell_type": "code",
      "metadata": {
        "colab": {
          "base_uri": "https://localhost:8080/",
          "height": 0
        },
        "id": "Ro-NzOYNvZ81",
        "outputId": "0db78a21-4c9e-4750-b9c9-61a721b55e2f"
      },
      "source": [
        "class Car:\n",
        "  def __init__(self, mod):\n",
        "    self.mod = mod\n",
        "\n",
        "  def get_model(self):\n",
        "    return self.mod\n",
        "\n",
        "c1 = Car(1)\n",
        "c2 = Car(2)\n",
        "print(c1.mod, c2.mod)\n",
        "c2.mod, c1.mod = c1.get_model(), c2.get_model()\n",
        "\n",
        "print(c1.mod, c2.mod)"
      ],
      "execution_count": 19,
      "outputs": [
        {
          "output_type": "stream",
          "name": "stdout",
          "text": [
            "1 2\n",
            "2 1\n"
          ]
        }
      ]
    }
  ]
}